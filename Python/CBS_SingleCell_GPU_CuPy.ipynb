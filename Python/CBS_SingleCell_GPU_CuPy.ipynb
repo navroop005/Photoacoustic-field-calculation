{
 "cells": [
  {
   "cell_type": "code",
   "execution_count": null,
   "metadata": {},
   "outputs": [],
   "source": [
    "import cupy as cp\n",
    "from time import time"
   ]
  },
  {
   "cell_type": "code",
   "execution_count": null,
   "metadata": {},
   "outputs": [],
   "source": [
    "start_time = time()"
   ]
  },
  {
   "cell_type": "code",
   "execution_count": null,
   "metadata": {},
   "outputs": [],
   "source": [
    "# Initialize parameters\n",
    "\n",
    "n = 2048\n",
    "NFFT = 100 # 274\n",
    "Ndetect_far = 1775\n",
    "Ndetect_near = 1125\n",
    "\n",
    "epsconst = 0.8\n",
    "\n",
    "Ny = n\n",
    "Nx = n\n",
    "Nmid = n // 2\n",
    "dx = 100e-9  # in m\n",
    "PML = 100\n",
    "derror = 1e-4\n",
    "\n",
    "a = 50 * dx\n",
    "Nbox = 100\n",
    "\n",
    "vf = 1500\n",
    "vs = 1650\n",
    "\n",
    "mu = 1.0\n",
    "beta = 1.0\n",
    "I0 = 1.0\n",
    "Cp = 1.0"
   ]
  },
  {
   "cell_type": "code",
   "execution_count": null,
   "metadata": {},
   "outputs": [],
   "source": [
    "r_dtype = \"double\"\n",
    "c_dtype = \"cdouble\""
   ]
  },
  {
   "cell_type": "code",
   "execution_count": null,
   "metadata": {},
   "outputs": [],
   "source": [
    "kkxy = 2 * cp.pi * cp.arange(0, Nmid+1, dtype=r_dtype) / (Nx * dx)\n",
    "f = kkxy * vf / (2 * cp.pi)  # in Hz\n",
    "\n",
    "f11 = f / 1000000\n",
    "f"
   ]
  },
  {
   "cell_type": "code",
   "execution_count": null,
   "metadata": {},
   "outputs": [],
   "source": [
    "dr = cp.fromfunction(lambda i, j: (i - Nmid) ** 2 + (j - Nmid) ** 2, (Nx, Ny))\n",
    "\n",
    "rg = cp.sqrt(dr) * dx\n",
    "\n",
    "cell_mask = rg <= a"
   ]
  },
  {
   "cell_type": "code",
   "execution_count": null,
   "metadata": {},
   "outputs": [],
   "source": [
    "absorbing_layer = cp.ones((Nx, Ny), dtype='bool')\n",
    "absorbing_layer[PML:Nx-PML, PML:Ny-PML] = False"
   ]
  },
  {
   "cell_type": "code",
   "execution_count": null,
   "metadata": {},
   "outputs": [],
   "source": [
    "# Calculate pmod2\n",
    "pmod2 = dr * ((2 * cp.pi / (Nx * dx)) ** 2)"
   ]
  },
  {
   "cell_type": "code",
   "execution_count": null,
   "metadata": {},
   "outputs": [],
   "source": [
    "itern = []\n",
    "time11 = []\n",
    "error_CBS = []\n",
    "PA_pressure_real_far = []\n",
    "PA_pressure_imag_far = []\n",
    "PA_pressure_abs_far = []\n",
    "PA_pressure_real_near = []\n",
    "PA_pressure_imag_near = []\n",
    "PA_pressure_abs_near = []"
   ]
  },
  {
   "cell_type": "code",
   "execution_count": null,
   "metadata": {},
   "outputs": [],
   "source": [
    "# Create empty matrices\n",
    "V = cp.zeros((Ny, Nx), dtype=c_dtype)\n",
    "S = cp.zeros((Ny, Nx), dtype=c_dtype)\n",
    "Shimask = cp.ones((Ny, Nx), dtype=r_dtype)"
   ]
  },
  {
   "cell_type": "code",
   "execution_count": null,
   "metadata": {},
   "outputs": [],
   "source": [
    "# Main loop\n",
    "for i1 in range(1, NFFT):\n",
    "    iter_time = time()\n",
    "\n",
    "    omega = 2 * cp.pi * f[i1]\n",
    "    ks = omega / vs\n",
    "    kf = omega / vf\n",
    "    epsilon = epsconst * kf * kf\n",
    "    epsilon11 = cp.sqrt(epsilon)\n",
    "\n",
    "    V_in = ks * ks - kf * kf - 1j * epsilon\n",
    "    V_out = -1j * epsilon\n",
    "    V[:] = V_out\n",
    "    V[cell_mask] = V_in\n",
    "\n",
    "    S_in = -1j * omega * mu * beta * I0 / Cp\n",
    "    S_out = 0\n",
    "    S[:] = S_out\n",
    "    S[cell_mask] = S_in\n",
    "\n",
    "    # Calculate Shimask\n",
    "    Shimask = cp.exp(-epsilon11 * rg, dtype=r_dtype)\n",
    "    Shimask[~absorbing_layer] = 1\n",
    "\n",
    "    # Calculate G\n",
    "    G = 1.0 / (pmod2 - kf * kf - 1j * epsilon)\n",
    "    G = cp.fft.fftshift(G)\n",
    "\n",
    "    gamma = 1j * V / epsilon\n",
    "\n",
    "    Shirin = gamma * cp.fft.ifft2(G * cp.fft.fft2(S))\n",
    "    Shirfn = cp.zeros((Nx, Ny), dtype=c_dtype)\n",
    "\n",
    "    for i77 in range(2000):\n",
    "        Shirfn = Shirin - (1j / epsilon) * V * (\n",
    "            Shirin - cp.fft.ifft2(G * cp.fft.fft2(V * Shirin + S))\n",
    "        )\n",
    "        Shirfn = Shirfn * Shimask\n",
    "\n",
    "        error_CBS2_CBS1 = cp.linalg.norm(\n",
    "            Shirfn[Nmid, :] - Shirin[Nmid, :], ord=1\n",
    "        ) / cp.linalg.norm(Shirin[Nmid, :], ord=1)\n",
    "\n",
    "        if error_CBS2_CBS1 < derror:\n",
    "            saturationCBS = i77\n",
    "            break\n",
    "        else:\n",
    "            Shirin = Shirfn\n",
    "        # if i77 % 20 == 0:\n",
    "        # print(\"\\r Inner:\", i77, end=\"\")\n",
    "\n",
    "    itern.append(i77)\n",
    "    time11.append(time() - iter_time)\n",
    "    error_CBS.append(float(error_CBS2_CBS1))\n",
    "\n",
    "    PA_pressure_real_far.append(float(cp.real(Shirfn[Nmid, Ndetect_far])))\n",
    "    PA_pressure_imag_far.append(float(cp.imag(Shirfn[Nmid, Ndetect_far])))\n",
    "    PA_pressure_abs_far.append(float(cp.abs(Shirfn[Nmid, Ndetect_far])))\n",
    "\n",
    "    PA_pressure_real_near.append(float(cp.real(Shirfn[Nmid, Ndetect_near])))\n",
    "    PA_pressure_imag_near.append(float(cp.imag(Shirfn[Nmid, Ndetect_near])))\n",
    "    PA_pressure_abs_near.append(float(cp.abs(Shirfn[Nmid, Ndetect_near])))\n",
    "\n",
    "    print(f\"NFFT: {i1}, f: {f[i1]}, Saturation: {saturationCBS}, Time: {time() - iter_time}\")"
   ]
  },
  {
   "cell_type": "code",
   "execution_count": null,
   "metadata": {},
   "outputs": [],
   "source": [
    "total_time = time() - start_time\n",
    "print(\"Total time:\", total_time)"
   ]
  },
  {
   "cell_type": "code",
   "execution_count": null,
   "metadata": {},
   "outputs": [],
   "source": [
    "# Save the results to files\n",
    "FID11 = open(\"frequency_pomega_CBS_1950_far.txt\", \"w\")\n",
    "FID12 = open(\"frequency_pomega_CBS_1950_near.txt\", \"w\")\n",
    "FID22 = open(\"frequency_iteration_time_CBS_1950.txt\", \"w\")\n",
    "\n",
    "for i1 in range(NFFT):\n",
    "    FID11.write(\n",
    "        f\"{f11[i1]},{PA_pressure_real_far[i1]},{PA_pressure_imag_far[i1]},{PA_pressure_abs_far[i1]}\\n\"\n",
    "    )\n",
    "\n",
    "    FID12.write(\n",
    "        f\"{f11[i1]},{PA_pressure_real_near[i1]},{PA_pressure_imag_near[i1]},{PA_pressure_abs_near[i1]}\\n\"\n",
    "    )\n",
    "    FID22.write(\n",
    "        f\"{f11[i1]},{itern[i1]},{error_CBS[i1]},{time11[i1]}\\n\"\n",
    "    )"
   ]
  },
  {
   "cell_type": "code",
   "execution_count": null,
   "metadata": {},
   "outputs": [],
   "source": [
    "# cp.savetxt(\n",
    "#     f\"../result/Shirfn_{n}_real_cupy2.txt\",\n",
    "#     cp.real(Shirfn),\n",
    "#     delimiter=\",\",\n",
    "# )\n",
    "# cp.savetxt(\n",
    "#     f\"../result/Shirfn_{n}_imag_cupy2.txt\",\n",
    "#     cp.imag(Shirfn),\n",
    "#     delimiter=\",\",\n",
    "# )"
   ]
  }
 ],
 "metadata": {
  "kernelspec": {
   "display_name": ".venv",
   "language": "python",
   "name": "python3"
  },
  "language_info": {
   "codemirror_mode": {
    "name": "ipython",
    "version": 3
   },
   "file_extension": ".py",
   "mimetype": "text/x-python",
   "name": "python",
   "nbconvert_exporter": "python",
   "pygments_lexer": "ipython3",
   "version": "3.11.6"
  },
  "orig_nbformat": 4
 },
 "nbformat": 4,
 "nbformat_minor": 2
}
